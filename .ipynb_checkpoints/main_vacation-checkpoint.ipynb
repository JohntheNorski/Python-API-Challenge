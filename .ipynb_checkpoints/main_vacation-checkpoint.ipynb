{
 "cells": [
  {
   "cell_type": "markdown",
   "metadata": {},
   "source": [
    "# VacationPy\n",
    "----\n",
    "\n",
    "#### Note\n",
    "* Keep an eye on your API usage. Use https://developers.google.com/maps/reporting/gmp-reporting as reference for how to monitor your usage and billing.\n",
    "\n",
    "* Instructions have been included for each segment. You do not have to follow them exactly, but they are included to help you think through the steps."
   ]
  },
  {
   "cell_type": "code",
   "execution_count": 1,
   "metadata": {},
   "outputs": [],
   "source": [
    "# Dependencies and Setup\n",
    "import matplotlib.pyplot as plt\n",
    "import pandas as pd\n",
    "import numpy as np\n",
    "import requests\n",
    "import gmaps\n",
    "import os\n",
    "from pprint import pprint\n",
    "\n",
    "# Import API key\n",
    "from api_keys import g_key"
   ]
  },
  {
   "cell_type": "markdown",
   "metadata": {},
   "source": [
    "### Store Part I results into DataFrame\n",
    "* Load the csv exported in Part I to a DataFrame"
   ]
  },
  {
   "cell_type": "code",
   "execution_count": 2,
   "metadata": {},
   "outputs": [
    {
     "data": {
      "text/html": [
       "<div>\n",
       "<style scoped>\n",
       "    .dataframe tbody tr th:only-of-type {\n",
       "        vertical-align: middle;\n",
       "    }\n",
       "\n",
       "    .dataframe tbody tr th {\n",
       "        vertical-align: top;\n",
       "    }\n",
       "\n",
       "    .dataframe thead th {\n",
       "        text-align: right;\n",
       "    }\n",
       "</style>\n",
       "<table border=\"1\" class=\"dataframe\">\n",
       "  <thead>\n",
       "    <tr style=\"text-align: right;\">\n",
       "      <th></th>\n",
       "      <th>Unnamed: 0</th>\n",
       "      <th>City</th>\n",
       "      <th>Temp (F)</th>\n",
       "      <th>Humidity</th>\n",
       "      <th>Cloudiness</th>\n",
       "      <th>Wind Speed (MPH)</th>\n",
       "      <th>Latitude</th>\n",
       "      <th>Longitude</th>\n",
       "    </tr>\n",
       "  </thead>\n",
       "  <tbody>\n",
       "    <tr>\n",
       "      <th>0</th>\n",
       "      <td>0</td>\n",
       "      <td>Busselton</td>\n",
       "      <td>92.25</td>\n",
       "      <td>9</td>\n",
       "      <td>4</td>\n",
       "      <td>5.68</td>\n",
       "      <td>-33.65</td>\n",
       "      <td>115.33</td>\n",
       "    </tr>\n",
       "    <tr>\n",
       "      <th>1</th>\n",
       "      <td>1</td>\n",
       "      <td>Saint-Joseph</td>\n",
       "      <td>78.80</td>\n",
       "      <td>54</td>\n",
       "      <td>0</td>\n",
       "      <td>23.04</td>\n",
       "      <td>-21.37</td>\n",
       "      <td>55.62</td>\n",
       "    </tr>\n",
       "    <tr>\n",
       "      <th>2</th>\n",
       "      <td>2</td>\n",
       "      <td>Balkanabat</td>\n",
       "      <td>26.92</td>\n",
       "      <td>80</td>\n",
       "      <td>0</td>\n",
       "      <td>0.96</td>\n",
       "      <td>39.51</td>\n",
       "      <td>54.37</td>\n",
       "    </tr>\n",
       "    <tr>\n",
       "      <th>3</th>\n",
       "      <td>3</td>\n",
       "      <td>Punta Arenas</td>\n",
       "      <td>44.29</td>\n",
       "      <td>81</td>\n",
       "      <td>0</td>\n",
       "      <td>5.82</td>\n",
       "      <td>-53.15</td>\n",
       "      <td>-70.92</td>\n",
       "    </tr>\n",
       "    <tr>\n",
       "      <th>4</th>\n",
       "      <td>4</td>\n",
       "      <td>Rikitea</td>\n",
       "      <td>77.22</td>\n",
       "      <td>79</td>\n",
       "      <td>60</td>\n",
       "      <td>14.23</td>\n",
       "      <td>-23.12</td>\n",
       "      <td>-134.97</td>\n",
       "    </tr>\n",
       "  </tbody>\n",
       "</table>\n",
       "</div>"
      ],
      "text/plain": [
       "   Unnamed: 0          City  Temp (F)  Humidity  Cloudiness  Wind Speed (MPH)  \\\n",
       "0           0     Busselton     92.25         9           4              5.68   \n",
       "1           1  Saint-Joseph     78.80        54           0             23.04   \n",
       "2           2    Balkanabat     26.92        80           0              0.96   \n",
       "3           3  Punta Arenas     44.29        81           0              5.82   \n",
       "4           4       Rikitea     77.22        79          60             14.23   \n",
       "\n",
       "   Latitude  Longitude  \n",
       "0    -33.65     115.33  \n",
       "1    -21.37      55.62  \n",
       "2     39.51      54.37  \n",
       "3    -53.15     -70.92  \n",
       "4    -23.12    -134.97  "
      ]
     },
     "execution_count": 2,
     "metadata": {},
     "output_type": "execute_result"
    }
   ],
   "source": [
    "file = \"cities.csv\"\n",
    "\n",
    "df = pd.read_csv(file)\n",
    "df.head()\n"
   ]
  },
  {
   "cell_type": "markdown",
   "metadata": {},
   "source": [
    "### Humidity Heatmap\n",
    "* Configure gmaps.\n",
    "* Use the Lat and Lng as locations and Humidity as the weight.\n",
    "* Add Heatmap layer to map."
   ]
  },
  {
   "cell_type": "code",
   "execution_count": 3,
   "metadata": {},
   "outputs": [
    {
     "data": {
      "application/vnd.jupyter.widget-view+json": {
       "model_id": "dbf3cef2a1a249d1ab46ceaee3856224",
       "version_major": 2,
       "version_minor": 0
      },
      "text/plain": [
       "Figure(layout=FigureLayout(height='420px'))"
      ]
     },
     "metadata": {},
     "output_type": "display_data"
    }
   ],
   "source": [
    "locations = list(zip(df['Latitude'],df['Longitude']))\n",
    "humidity = df['Humidity'].astype('float')\n",
    "\n",
    "gmaps.configure(api_key=g_key)\n",
    "\n",
    "fig = gmaps.figure(center=(46.0, -5.0),zoom_level = 1)\n",
    "\n",
    "heat_layer = gmaps.heatmap_layer(locations, weights=humidity, \n",
    "                                 dissipating=False, max_intensity=100,\n",
    "                                point_radius = 1)\n",
    "\n",
    "fig.add_layer(heat_layer)\n",
    "\n",
    "fig"
   ]
  },
  {
   "cell_type": "markdown",
   "metadata": {},
   "source": [
    "### Create new DataFrame fitting weather criteria\n",
    "* Narrow down the cities to fit weather conditions.\n",
    "* Drop any rows will null values."
   ]
  },
  {
   "cell_type": "code",
   "execution_count": 19,
   "metadata": {},
   "outputs": [
    {
     "data": {
      "text/plain": [
       "Unnamed: 0          5\n",
       "City                5\n",
       "Temp (F)            5\n",
       "Humidity            5\n",
       "Cloudiness          5\n",
       "Wind Speed (MPH)    5\n",
       "Latitude            5\n",
       "Longitude           5\n",
       "dtype: int64"
      ]
     },
     "execution_count": 19,
     "metadata": {},
     "output_type": "execute_result"
    }
   ],
   "source": [
    "hotel_df = df.loc[(df['Temp (F)'] < 45) & (df['Temp (F)'] > 20) & (df['Wind Speed (MPH)'] > 12) & (df['Cloudiness'] < 5)]\n",
    "hotel_df = hotel_df.dropna()\n",
    "hotel_df.count()"
   ]
  },
  {
   "cell_type": "code",
   "execution_count": 20,
   "metadata": {},
   "outputs": [],
   "source": [
    "hotel_df = hotel_df.drop(columns= ['Unnamed: 0'])\n",
    "hotel_df['Hotel Name'] = \" \"\n",
    "hotel_df['Country'] = \" \""
   ]
  },
  {
   "cell_type": "markdown",
   "metadata": {},
   "source": [
    "### Hotel Map\n",
    "* Store into variable named `hotel_df`.\n",
    "* Add a \"Hotel Name\" column to the DataFrame.\n",
    "* Set parameters to search for hotels with 5000 meters.\n",
    "* Hit the Google Places API for each city's coordinates.\n",
    "* Store the first Hotel result into the DataFrame.\n",
    "* Plot markers on top of the heatmap."
   ]
  },
  {
   "cell_type": "code",
   "execution_count": 24,
   "metadata": {},
   "outputs": [],
   "source": [
    "# NOTE: Do not change any of the code in this cell\n",
    "url = 'https://maps.googleapis.com/maps/api/place/nearbysearch/json'\n",
    "placeid = []\n",
    "locations = list(zip(hotel_df['Latitude'],hotel_df['Longitude']))\n",
    "\n",
    "for place in locations:\n",
    "    lat = place[0]\n",
    "    lon = place[1]\n",
    "    coord = str(lat) + \", \" + str(lon)\n",
    "    params = {\n",
    "        'location':coord,\n",
    "        'radius':5000,\n",
    "        'type':'hotel',\n",
    "        'key':g_key\n",
    "        }\n",
    "    try:\n",
    "        response = requests.get(url,params=params).json()\n",
    "        hotelname = response['results'][1]['name']\n",
    "        placeid.append(response['results'][1]['place_id'])\n",
    "        hotel_df.loc[(hotel_df['Latitude'] == lat) & (hotel_df['Longitude'] == lon), 'Hotel Name'] = hotelname\n",
    "    except:\n",
    "        print (\"Can't find a hotel near \" + coord)\n",
    "\n"
   ]
  },
  {
   "cell_type": "code",
   "execution_count": 25,
   "metadata": {},
   "outputs": [],
   "source": [
    "url2 = \"https://maps.googleapis.com/maps/api/place/details/json\"\n",
    "countries = []\n",
    "for pid in placeid:\n",
    "    params = {\n",
    "        'placeid':pid,\n",
    "        'key':g_key\n",
    "        }\n",
    "    try:\n",
    "        response = requests.get(url2,params=params).json()\n",
    "        try:\n",
    "            x = int(response['result']['address_components'][5]['long_name'])\n",
    "            countries.append(response['result']['address_components'][4]['long_name'])\n",
    "        except:\n",
    "            countries.append(response['result']['address_components'][5]['long_name'])\n",
    "    except:\n",
    "        try:\n",
    "            response = requests.get(url2,params=params).json()\n",
    "            countries.append(response['result']['address_components'][3]['long_name'])\n",
    "        except:\n",
    "            print('New?')"
   ]
  },
  {
   "cell_type": "code",
   "execution_count": 26,
   "metadata": {},
   "outputs": [
    {
     "data": {
      "text/html": [
       "<div>\n",
       "<style scoped>\n",
       "    .dataframe tbody tr th:only-of-type {\n",
       "        vertical-align: middle;\n",
       "    }\n",
       "\n",
       "    .dataframe tbody tr th {\n",
       "        vertical-align: top;\n",
       "    }\n",
       "\n",
       "    .dataframe thead th {\n",
       "        text-align: right;\n",
       "    }\n",
       "</style>\n",
       "<table border=\"1\" class=\"dataframe\">\n",
       "  <thead>\n",
       "    <tr style=\"text-align: right;\">\n",
       "      <th></th>\n",
       "      <th>City</th>\n",
       "      <th>Temp (F)</th>\n",
       "      <th>Humidity</th>\n",
       "      <th>Cloudiness</th>\n",
       "      <th>Wind Speed (MPH)</th>\n",
       "      <th>Latitude</th>\n",
       "      <th>Longitude</th>\n",
       "      <th>Hotel Name</th>\n",
       "      <th>Country</th>\n",
       "    </tr>\n",
       "  </thead>\n",
       "  <tbody>\n",
       "    <tr>\n",
       "      <th>186</th>\n",
       "      <td>Novyy Svit</td>\n",
       "      <td>25.27</td>\n",
       "      <td>93</td>\n",
       "      <td>0</td>\n",
       "      <td>16.24</td>\n",
       "      <td>47.81</td>\n",
       "      <td>38.02</td>\n",
       "      <td>Novosvit·sʹka Zahalʹnoosvitnya Shkola I-Iii St...</td>\n",
       "      <td>Ukraine</td>\n",
       "    </tr>\n",
       "    <tr>\n",
       "      <th>227</th>\n",
       "      <td>Zenzeli</td>\n",
       "      <td>24.33</td>\n",
       "      <td>94</td>\n",
       "      <td>0</td>\n",
       "      <td>13.35</td>\n",
       "      <td>45.92</td>\n",
       "      <td>47.05</td>\n",
       "      <td>Bankomat Pao Sberbank</td>\n",
       "      <td>Russia</td>\n",
       "    </tr>\n",
       "    <tr>\n",
       "      <th>274</th>\n",
       "      <td>South Sioux City</td>\n",
       "      <td>36.12</td>\n",
       "      <td>74</td>\n",
       "      <td>1</td>\n",
       "      <td>20.80</td>\n",
       "      <td>42.47</td>\n",
       "      <td>-96.41</td>\n",
       "      <td>Hilton Garden Inn Sioux City Riverfront</td>\n",
       "      <td>United States</td>\n",
       "    </tr>\n",
       "    <tr>\n",
       "      <th>551</th>\n",
       "      <td>Beatrice</td>\n",
       "      <td>40.14</td>\n",
       "      <td>65</td>\n",
       "      <td>1</td>\n",
       "      <td>12.75</td>\n",
       "      <td>40.27</td>\n",
       "      <td>-96.75</td>\n",
       "      <td>Victorian Inn Beatrice</td>\n",
       "      <td>United States</td>\n",
       "    </tr>\n",
       "    <tr>\n",
       "      <th>564</th>\n",
       "      <td>Almaznyy</td>\n",
       "      <td>23.00</td>\n",
       "      <td>79</td>\n",
       "      <td>0</td>\n",
       "      <td>17.90</td>\n",
       "      <td>48.04</td>\n",
       "      <td>40.05</td>\n",
       "      <td>Krasnosulinskaya Ptitsefabrika</td>\n",
       "      <td>Russia</td>\n",
       "    </tr>\n",
       "  </tbody>\n",
       "</table>\n",
       "</div>"
      ],
      "text/plain": [
       "                 City  Temp (F)  Humidity  Cloudiness  Wind Speed (MPH)  \\\n",
       "186        Novyy Svit     25.27        93           0             16.24   \n",
       "227           Zenzeli     24.33        94           0             13.35   \n",
       "274  South Sioux City     36.12        74           1             20.80   \n",
       "551          Beatrice     40.14        65           1             12.75   \n",
       "564          Almaznyy     23.00        79           0             17.90   \n",
       "\n",
       "     Latitude  Longitude                                         Hotel Name  \\\n",
       "186     47.81      38.02  Novosvit·sʹka Zahalʹnoosvitnya Shkola I-Iii St...   \n",
       "227     45.92      47.05                              Bankomat Pao Sberbank   \n",
       "274     42.47     -96.41            Hilton Garden Inn Sioux City Riverfront   \n",
       "551     40.27     -96.75                             Victorian Inn Beatrice   \n",
       "564     48.04      40.05                     Krasnosulinskaya Ptitsefabrika   \n",
       "\n",
       "           Country  \n",
       "186        Ukraine  \n",
       "227         Russia  \n",
       "274  United States  \n",
       "551  United States  \n",
       "564         Russia  "
      ]
     },
     "execution_count": 26,
     "metadata": {},
     "output_type": "execute_result"
    }
   ],
   "source": [
    "hotel_df['Country'] = countries\n",
    "hotel_df"
   ]
  },
  {
   "cell_type": "code",
   "execution_count": 27,
   "metadata": {},
   "outputs": [],
   "source": [
    "# Using the template add the hotel marks to the heatmap\n",
    "info_box_template = \"\"\"\n",
    "<dl>\n",
    "<dt>Name</dt><dd>{Hotel Name}</dd>\n",
    "<dt>City</dt><dd>{City}</dd>\n",
    "<dt>Country</dt><dd>{Country}</dd>\n",
    "</dl>\n",
    "\"\"\"\n",
    "# Store the DataFrame Row\n",
    "# NOTE: be sure to update with your DataFrame name\n",
    "hotel_info = [info_box_template.format(**row) for index, row in hotel_df.iterrows()]\n",
    "locations = hotel_df[[\"Latitude\", \"Longitude\"]]"
   ]
  },
  {
   "cell_type": "code",
   "execution_count": 28,
   "metadata": {},
   "outputs": [
    {
     "data": {
      "application/vnd.jupyter.widget-view+json": {
       "model_id": "dbf3cef2a1a249d1ab46ceaee3856224",
       "version_major": 2,
       "version_minor": 0
      },
      "text/plain": [
       "Figure(layout=FigureLayout(height='420px'))"
      ]
     },
     "metadata": {},
     "output_type": "display_data"
    }
   ],
   "source": [
    "# Add marker layer ontop of heat map\n",
    "markers = gmaps.marker_layer(locations,info_box_content=hotel_info)\n",
    "# Add the layer to the map\n",
    "fig.add_layer(markers)\n",
    "# Show fig\n",
    "fig\n",
    "\n",
    "\n"
   ]
  },
  {
   "cell_type": "code",
   "execution_count": null,
   "metadata": {},
   "outputs": [],
   "source": []
  }
 ],
 "metadata": {
  "kernelspec": {
   "display_name": "Python [conda env:ComeOnBaby] *",
   "language": "python",
   "name": "conda-env-ComeOnBaby-py"
  },
  "language_info": {
   "codemirror_mode": {
    "name": "ipython",
    "version": 3
   },
   "file_extension": ".py",
   "mimetype": "text/x-python",
   "name": "python",
   "nbconvert_exporter": "python",
   "pygments_lexer": "ipython3",
   "version": "3.6.10"
  },
  "latex_envs": {
   "LaTeX_envs_menu_present": true,
   "autoclose": false,
   "autocomplete": true,
   "bibliofile": "biblio.bib",
   "cite_by": "apalike",
   "current_citInitial": 1,
   "eqLabelWithNumbers": true,
   "eqNumInitial": 1,
   "hotkeys": {
    "equation": "Ctrl-E",
    "itemize": "Ctrl-I"
   },
   "labels_anchors": false,
   "latex_user_defs": false,
   "report_style_numbering": false,
   "user_envs_cfg": false
  }
 },
 "nbformat": 4,
 "nbformat_minor": 4
}
