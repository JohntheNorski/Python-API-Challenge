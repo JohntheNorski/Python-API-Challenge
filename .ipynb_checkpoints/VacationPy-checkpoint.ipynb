{
 "cells": [
  {
   "cell_type": "markdown",
   "metadata": {},
   "source": [
    "# VacationPy\n",
    "----\n",
    "\n",
    "#### Note\n",
    "* Keep an eye on your API usage. Use https://developers.google.com/maps/reporting/gmp-reporting as reference for how to monitor your usage and billing.\n",
    "\n",
    "* Instructions have been included for each segment. You do not have to follow them exactly, but they are included to help you think through the steps."
   ]
  },
  {
   "cell_type": "code",
   "execution_count": 1,
   "metadata": {},
   "outputs": [],
   "source": [
    "# Dependencies and Setup\n",
    "import matplotlib.pyplot as plt\n",
    "import pandas as pd\n",
    "import numpy as np\n",
    "import requests\n",
    "import gmaps\n",
    "import os\n",
    "from pprint import pprint\n",
    "\n",
    "# Import API key\n",
    "from api_keys import g_key"
   ]
  },
  {
   "cell_type": "markdown",
   "metadata": {},
   "source": [
    "### Store Part I results into DataFrame\n",
    "* Load the csv exported in Part I to a DataFrame"
   ]
  },
  {
   "cell_type": "code",
   "execution_count": 2,
   "metadata": {},
   "outputs": [
    {
     "data": {
      "text/html": [
       "<div>\n",
       "<style scoped>\n",
       "    .dataframe tbody tr th:only-of-type {\n",
       "        vertical-align: middle;\n",
       "    }\n",
       "\n",
       "    .dataframe tbody tr th {\n",
       "        vertical-align: top;\n",
       "    }\n",
       "\n",
       "    .dataframe thead th {\n",
       "        text-align: right;\n",
       "    }\n",
       "</style>\n",
       "<table border=\"1\" class=\"dataframe\">\n",
       "  <thead>\n",
       "    <tr style=\"text-align: right;\">\n",
       "      <th></th>\n",
       "      <th>Unnamed: 0</th>\n",
       "      <th>City</th>\n",
       "      <th>Temp (F)</th>\n",
       "      <th>Humidity</th>\n",
       "      <th>Cloudiness</th>\n",
       "      <th>Wind Speed (MPH)</th>\n",
       "      <th>Latitude</th>\n",
       "      <th>Longitude</th>\n",
       "    </tr>\n",
       "  </thead>\n",
       "  <tbody>\n",
       "    <tr>\n",
       "      <th>0</th>\n",
       "      <td>0</td>\n",
       "      <td>Okato</td>\n",
       "      <td>65.17</td>\n",
       "      <td>72</td>\n",
       "      <td>67</td>\n",
       "      <td>4.00</td>\n",
       "      <td>-39.20</td>\n",
       "      <td>173.88</td>\n",
       "    </tr>\n",
       "    <tr>\n",
       "      <th>1</th>\n",
       "      <td>1</td>\n",
       "      <td>Rikitea</td>\n",
       "      <td>77.81</td>\n",
       "      <td>79</td>\n",
       "      <td>51</td>\n",
       "      <td>16.33</td>\n",
       "      <td>-23.12</td>\n",
       "      <td>-134.97</td>\n",
       "    </tr>\n",
       "    <tr>\n",
       "      <th>2</th>\n",
       "      <td>2</td>\n",
       "      <td>Auki</td>\n",
       "      <td>85.93</td>\n",
       "      <td>64</td>\n",
       "      <td>20</td>\n",
       "      <td>3.06</td>\n",
       "      <td>-8.77</td>\n",
       "      <td>160.70</td>\n",
       "    </tr>\n",
       "    <tr>\n",
       "      <th>3</th>\n",
       "      <td>3</td>\n",
       "      <td>Hasaki</td>\n",
       "      <td>46.45</td>\n",
       "      <td>76</td>\n",
       "      <td>75</td>\n",
       "      <td>9.17</td>\n",
       "      <td>35.73</td>\n",
       "      <td>140.83</td>\n",
       "    </tr>\n",
       "    <tr>\n",
       "      <th>4</th>\n",
       "      <td>4</td>\n",
       "      <td>Ushuaia</td>\n",
       "      <td>44.60</td>\n",
       "      <td>93</td>\n",
       "      <td>90</td>\n",
       "      <td>9.17</td>\n",
       "      <td>-54.80</td>\n",
       "      <td>-68.30</td>\n",
       "    </tr>\n",
       "  </tbody>\n",
       "</table>\n",
       "</div>"
      ],
      "text/plain": [
       "   Unnamed: 0     City  Temp (F)  Humidity  Cloudiness  Wind Speed (MPH)  \\\n",
       "0           0    Okato     65.17        72          67              4.00   \n",
       "1           1  Rikitea     77.81        79          51             16.33   \n",
       "2           2     Auki     85.93        64          20              3.06   \n",
       "3           3   Hasaki     46.45        76          75              9.17   \n",
       "4           4  Ushuaia     44.60        93          90              9.17   \n",
       "\n",
       "   Latitude  Longitude  \n",
       "0    -39.20     173.88  \n",
       "1    -23.12    -134.97  \n",
       "2     -8.77     160.70  \n",
       "3     35.73     140.83  \n",
       "4    -54.80     -68.30  "
      ]
     },
     "execution_count": 2,
     "metadata": {},
     "output_type": "execute_result"
    }
   ],
   "source": [
    "file = \"cities.csv\"\n",
    "\n",
    "df = pd.read_csv(file)\n",
    "df.head()\n"
   ]
  },
  {
   "cell_type": "markdown",
   "metadata": {},
   "source": [
    "### Humidity Heatmap\n",
    "* Configure gmaps.\n",
    "* Use the Lat and Lng as locations and Humidity as the weight.\n",
    "* Add Heatmap layer to map."
   ]
  },
  {
   "cell_type": "code",
   "execution_count": 3,
   "metadata": {},
   "outputs": [
    {
     "data": {
      "application/vnd.jupyter.widget-view+json": {
       "model_id": "d3ef05911a99467ba47c8dfb12750790",
       "version_major": 2,
       "version_minor": 0
      },
      "text/plain": [
       "Figure(layout=FigureLayout(height='420px'))"
      ]
     },
     "metadata": {},
     "output_type": "display_data"
    }
   ],
   "source": [
    "locations = list(zip(df['Latitude'],df['Longitude']))\n",
    "humidity = df['Humidity'].astype('float')\n",
    "\n",
    "gmaps.configure(api_key=g_key)\n",
    "\n",
    "fig = gmaps.figure(center=(46.0, -5.0),zoom_level = 1)\n",
    "\n",
    "heat_layer = gmaps.heatmap_layer(locations, weights=humidity, \n",
    "                                 dissipating=False, max_intensity=100,\n",
    "                                point_radius = 1)\n",
    "\n",
    "fig.add_layer(heat_layer)\n",
    "\n",
    "fig"
   ]
  },
  {
   "cell_type": "markdown",
   "metadata": {},
   "source": [
    "### Create new DataFrame fitting weather criteria\n",
    "* Narrow down the cities to fit weather conditions.\n",
    "* Drop any rows will null values."
   ]
  },
  {
   "cell_type": "code",
   "execution_count": 4,
   "metadata": {},
   "outputs": [
    {
     "data": {
      "text/plain": [
       "Unnamed: 0          9\n",
       "City                9\n",
       "Temp (F)            9\n",
       "Humidity            9\n",
       "Cloudiness          9\n",
       "Wind Speed (MPH)    9\n",
       "Latitude            9\n",
       "Longitude           9\n",
       "dtype: int64"
      ]
     },
     "execution_count": 4,
     "metadata": {},
     "output_type": "execute_result"
    }
   ],
   "source": [
    "hotel_df = df.loc[(df['Temp (F)'] < 60) & (df['Temp (F)'] > 50) & (df['Wind Speed (MPH)'] > 5) & (df['Cloudiness'] < 5)]\n",
    "hotel_df = hotel_df.dropna()\n",
    "hotel_df.count()"
   ]
  },
  {
   "cell_type": "code",
   "execution_count": 5,
   "metadata": {},
   "outputs": [],
   "source": [
    "hotel_df = hotel_df.drop(columns= ['Unnamed: 0'])\n",
    "hotel_df['Hotel Name'] = \" \"\n",
    "hotel_df['Country'] = \" \""
   ]
  },
  {
   "cell_type": "markdown",
   "metadata": {},
   "source": [
    "### Hotel Map\n",
    "* Store into variable named `hotel_df`.\n",
    "* Add a \"Hotel Name\" column to the DataFrame.\n",
    "* Set parameters to search for hotels with 5000 meters.\n",
    "* Hit the Google Places API for each city's coordinates.\n",
    "* Store the first Hotel result into the DataFrame.\n",
    "* Plot markers on top of the heatmap."
   ]
  },
  {
   "cell_type": "code",
   "execution_count": 6,
   "metadata": {},
   "outputs": [],
   "source": [
    "# NOTE: Do not change any of the code in this cell\n",
    "url = 'https://maps.googleapis.com/maps/api/place/nearbysearch/json'\n",
    "placeid = []\n",
    "locations = list(zip(hotel_df['Latitude'],hotel_df['Longitude']))\n",
    "\n",
    "for place in locations:\n",
    "    lat = place[0]\n",
    "    lon = place[1]\n",
    "    coord = str(lat) + \", \" + str(lon)\n",
    "    params = {\n",
    "        'location':coord,\n",
    "        'radius':5000,\n",
    "        'type':'hotel',\n",
    "        'key':g_key\n",
    "        }\n",
    "    try:\n",
    "        response = requests.get(url,params=params).json()\n",
    "        hotelname = response['results'][1]['name']\n",
    "        placeid.append(response['results'][1]['place_id'])\n",
    "        hotel_df.loc[(hotel_df['Latitude'] == lat) & (hotel_df['Longitude'] == lon), 'Hotel Name'] = hotelname\n",
    "    except:\n",
    "        print (\"Can't find a hotel near \" + coord)\n",
    "\n"
   ]
  },
  {
   "cell_type": "code",
   "execution_count": 7,
   "metadata": {},
   "outputs": [],
   "source": [
    "url2 = \"https://maps.googleapis.com/maps/api/place/details/json\"\n",
    "countries = []\n",
    "for pid in placeid:\n",
    "    params = {\n",
    "        'placeid':pid,\n",
    "        'key':g_key\n",
    "        }\n",
    "    try:\n",
    "        response = requests.get(url2,params=params).json()\n",
    "        try:\n",
    "            x = int(response['result']['address_components'][5]['long_name'])\n",
    "            countries.append(response['result']['address_components'][4]['long_name'])\n",
    "        except:\n",
    "            countries.append(response['result']['address_components'][5]['long_name'])\n",
    "    except:\n",
    "        try:\n",
    "            response = requests.get(url2,params=params).json()\n",
    "            countries.append(response['result']['address_components'][3]['long_name'])\n",
    "        except:\n",
    "            print('New?')"
   ]
  },
  {
   "cell_type": "code",
   "execution_count": 8,
   "metadata": {},
   "outputs": [
    {
     "data": {
      "text/html": [
       "<div>\n",
       "<style scoped>\n",
       "    .dataframe tbody tr th:only-of-type {\n",
       "        vertical-align: middle;\n",
       "    }\n",
       "\n",
       "    .dataframe tbody tr th {\n",
       "        vertical-align: top;\n",
       "    }\n",
       "\n",
       "    .dataframe thead th {\n",
       "        text-align: right;\n",
       "    }\n",
       "</style>\n",
       "<table border=\"1\" class=\"dataframe\">\n",
       "  <thead>\n",
       "    <tr style=\"text-align: right;\">\n",
       "      <th></th>\n",
       "      <th>City</th>\n",
       "      <th>Temp (F)</th>\n",
       "      <th>Humidity</th>\n",
       "      <th>Cloudiness</th>\n",
       "      <th>Wind Speed (MPH)</th>\n",
       "      <th>Latitude</th>\n",
       "      <th>Longitude</th>\n",
       "      <th>Hotel Name</th>\n",
       "      <th>Country</th>\n",
       "    </tr>\n",
       "  </thead>\n",
       "  <tbody>\n",
       "    <tr>\n",
       "      <th>188</th>\n",
       "      <td>Rio Rancho</td>\n",
       "      <td>55.40</td>\n",
       "      <td>15</td>\n",
       "      <td>1</td>\n",
       "      <td>6.93</td>\n",
       "      <td>35.23</td>\n",
       "      <td>-106.66</td>\n",
       "      <td>Hilton Garden Inn Albuquerque North/Rio Rancho</td>\n",
       "      <td>United States</td>\n",
       "    </tr>\n",
       "    <tr>\n",
       "      <th>248</th>\n",
       "      <td>Raton</td>\n",
       "      <td>59.00</td>\n",
       "      <td>8</td>\n",
       "      <td>1</td>\n",
       "      <td>6.93</td>\n",
       "      <td>36.90</td>\n",
       "      <td>-104.44</td>\n",
       "      <td>Holiday Inn Express &amp; Suites Raton</td>\n",
       "      <td>United States</td>\n",
       "    </tr>\n",
       "    <tr>\n",
       "      <th>301</th>\n",
       "      <td>Miramar</td>\n",
       "      <td>56.97</td>\n",
       "      <td>54</td>\n",
       "      <td>1</td>\n",
       "      <td>6.93</td>\n",
       "      <td>25.99</td>\n",
       "      <td>-80.23</td>\n",
       "      <td>Stadium Hotel</td>\n",
       "      <td>United States</td>\n",
       "    </tr>\n",
       "    <tr>\n",
       "      <th>346</th>\n",
       "      <td>Lincoln</td>\n",
       "      <td>52.65</td>\n",
       "      <td>40</td>\n",
       "      <td>1</td>\n",
       "      <td>5.82</td>\n",
       "      <td>40.80</td>\n",
       "      <td>-96.67</td>\n",
       "      <td>Courtyard by Marriott Lincoln Downtown/Haymarket</td>\n",
       "      <td>United States</td>\n",
       "    </tr>\n",
       "    <tr>\n",
       "      <th>369</th>\n",
       "      <td>Lebu</td>\n",
       "      <td>55.49</td>\n",
       "      <td>79</td>\n",
       "      <td>0</td>\n",
       "      <td>13.53</td>\n",
       "      <td>-37.62</td>\n",
       "      <td>-73.65</td>\n",
       "      <td>Restaurante Casa Vieja</td>\n",
       "      <td>Bío Bío</td>\n",
       "    </tr>\n",
       "    <tr>\n",
       "      <th>501</th>\n",
       "      <td>Constitución</td>\n",
       "      <td>56.84</td>\n",
       "      <td>66</td>\n",
       "      <td>0</td>\n",
       "      <td>17.54</td>\n",
       "      <td>-35.33</td>\n",
       "      <td>-72.42</td>\n",
       "      <td>Hotel Boutique Las Azucenas</td>\n",
       "      <td>Maule</td>\n",
       "    </tr>\n",
       "    <tr>\n",
       "      <th>521</th>\n",
       "      <td>Fes</td>\n",
       "      <td>51.80</td>\n",
       "      <td>87</td>\n",
       "      <td>0</td>\n",
       "      <td>8.05</td>\n",
       "      <td>34.04</td>\n",
       "      <td>-5.00</td>\n",
       "      <td>Hotel Mounia Fès</td>\n",
       "      <td>Fez-Meknès</td>\n",
       "    </tr>\n",
       "    <tr>\n",
       "      <th>522</th>\n",
       "      <td>Show Low</td>\n",
       "      <td>53.04</td>\n",
       "      <td>17</td>\n",
       "      <td>1</td>\n",
       "      <td>5.82</td>\n",
       "      <td>34.25</td>\n",
       "      <td>-110.03</td>\n",
       "      <td>Hampton Inn &amp; Suites Show Low-Pinetop</td>\n",
       "      <td>United States</td>\n",
       "    </tr>\n",
       "    <tr>\n",
       "      <th>523</th>\n",
       "      <td>North Bend</td>\n",
       "      <td>52.30</td>\n",
       "      <td>81</td>\n",
       "      <td>1</td>\n",
       "      <td>12.75</td>\n",
       "      <td>43.41</td>\n",
       "      <td>-124.22</td>\n",
       "      <td>Red Lion Hotel Coos Bay</td>\n",
       "      <td>United States</td>\n",
       "    </tr>\n",
       "  </tbody>\n",
       "</table>\n",
       "</div>"
      ],
      "text/plain": [
       "             City  Temp (F)  Humidity  Cloudiness  Wind Speed (MPH)  Latitude  \\\n",
       "188    Rio Rancho     55.40        15           1              6.93     35.23   \n",
       "248         Raton     59.00         8           1              6.93     36.90   \n",
       "301       Miramar     56.97        54           1              6.93     25.99   \n",
       "346       Lincoln     52.65        40           1              5.82     40.80   \n",
       "369          Lebu     55.49        79           0             13.53    -37.62   \n",
       "501  Constitución     56.84        66           0             17.54    -35.33   \n",
       "521           Fes     51.80        87           0              8.05     34.04   \n",
       "522      Show Low     53.04        17           1              5.82     34.25   \n",
       "523    North Bend     52.30        81           1             12.75     43.41   \n",
       "\n",
       "     Longitude                                        Hotel Name  \\\n",
       "188    -106.66    Hilton Garden Inn Albuquerque North/Rio Rancho   \n",
       "248    -104.44                Holiday Inn Express & Suites Raton   \n",
       "301     -80.23                                     Stadium Hotel   \n",
       "346     -96.67  Courtyard by Marriott Lincoln Downtown/Haymarket   \n",
       "369     -73.65                            Restaurante Casa Vieja   \n",
       "501     -72.42                       Hotel Boutique Las Azucenas   \n",
       "521      -5.00                                  Hotel Mounia Fès   \n",
       "522    -110.03             Hampton Inn & Suites Show Low-Pinetop   \n",
       "523    -124.22                           Red Lion Hotel Coos Bay   \n",
       "\n",
       "           Country  \n",
       "188  United States  \n",
       "248  United States  \n",
       "301  United States  \n",
       "346  United States  \n",
       "369        Bío Bío  \n",
       "501          Maule  \n",
       "521     Fez-Meknès  \n",
       "522  United States  \n",
       "523  United States  "
      ]
     },
     "execution_count": 8,
     "metadata": {},
     "output_type": "execute_result"
    }
   ],
   "source": [
    "hotel_df['Country'] = countries\n",
    "hotel_df"
   ]
  },
  {
   "cell_type": "code",
   "execution_count": 9,
   "metadata": {},
   "outputs": [],
   "source": [
    "# Using the template add the hotel marks to the heatmap\n",
    "info_box_template = \"\"\"\n",
    "<dl>\n",
    "<dt>Name</dt><dd>{Hotel Name}</dd>\n",
    "<dt>City</dt><dd>{City}</dd>\n",
    "<dt>Country</dt><dd>{Country}</dd>\n",
    "</dl>\n",
    "\"\"\"\n",
    "# Store the DataFrame Row\n",
    "# NOTE: be sure to update with your DataFrame name\n",
    "hotel_info = [info_box_template.format(**row) for index, row in hotel_df.iterrows()]\n",
    "locations = hotel_df[[\"Latitude\", \"Longitude\"]]"
   ]
  },
  {
   "cell_type": "code",
   "execution_count": 16,
   "metadata": {},
   "outputs": [
    {
     "data": {
      "application/vnd.jupyter.widget-view+json": {
       "model_id": "d3ef05911a99467ba47c8dfb12750790",
       "version_major": 2,
       "version_minor": 0
      },
      "text/plain": [
       "Figure(layout=FigureLayout(height='420px'))"
      ]
     },
     "metadata": {},
     "output_type": "display_data"
    }
   ],
   "source": [
    "# Add marker layer ontop of heat map\n",
    "markers = gmaps.marker_layer(locations,info_box_content=hotel_info)\n",
    "# Add the layer to the map\n",
    "fig.add_layer(markers)\n",
    "# Show fig\n",
    "fig\n",
    "\n",
    "\n"
   ]
  },
  {
   "cell_type": "code",
   "execution_count": null,
   "metadata": {},
   "outputs": [],
   "source": []
  }
 ],
 "metadata": {
  "kernelspec": {
   "display_name": "Python [conda env:ComeOnBaby] *",
   "language": "python",
   "name": "conda-env-ComeOnBaby-py"
  },
  "language_info": {
   "codemirror_mode": {
    "name": "ipython",
    "version": 3
   },
   "file_extension": ".py",
   "mimetype": "text/x-python",
   "name": "python",
   "nbconvert_exporter": "python",
   "pygments_lexer": "ipython3",
   "version": "3.6.10"
  },
  "latex_envs": {
   "LaTeX_envs_menu_present": true,
   "autoclose": false,
   "autocomplete": true,
   "bibliofile": "biblio.bib",
   "cite_by": "apalike",
   "current_citInitial": 1,
   "eqLabelWithNumbers": true,
   "eqNumInitial": 1,
   "hotkeys": {
    "equation": "Ctrl-E",
    "itemize": "Ctrl-I"
   },
   "labels_anchors": false,
   "latex_user_defs": false,
   "report_style_numbering": false,
   "user_envs_cfg": false
  }
 },
 "nbformat": 4,
 "nbformat_minor": 4
}
